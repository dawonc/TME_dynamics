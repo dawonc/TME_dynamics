{
 "cells": [
  {
   "cell_type": "code",
   "execution_count": 1,
   "id": "67dfcafd",
   "metadata": {},
   "outputs": [],
   "source": [
    "import pandas as pd\n",
    "import numpy as np\n",
    "import matplotlib.pyplot as plt\n",
    "%matplotlib inline\n",
    "import seaborn as sns\n",
    "from matplotlib import rc\n",
    "rc('font',**{'family':'sans-serif','sans-serif':['PT Sans']})\n",
    "plt.rcParams.update({'font.size': 14})\n",
    "from scipy.stats import pearsonr, spearmanr\n",
    "from scipy.spatial import distance\n",
    "from glob import glob\n",
    "from sklearn.metrics import mean_squared_error"
   ]
  },
  {
   "cell_type": "code",
   "execution_count": 2,
   "id": "3c3c4a24",
   "metadata": {},
   "outputs": [
    {
     "data": {
      "text/html": [
       "<div>\n",
       "<style scoped>\n",
       "    .dataframe tbody tr th:only-of-type {\n",
       "        vertical-align: middle;\n",
       "    }\n",
       "\n",
       "    .dataframe tbody tr th {\n",
       "        vertical-align: top;\n",
       "    }\n",
       "\n",
       "    .dataframe thead th {\n",
       "        text-align: right;\n",
       "    }\n",
       "</style>\n",
       "<table border=\"1\" class=\"dataframe\">\n",
       "  <thead>\n",
       "    <tr style=\"text-align: right;\">\n",
       "      <th></th>\n",
       "      <th>MSE</th>\n",
       "    </tr>\n",
       "  </thead>\n",
       "  <tbody>\n",
       "    <tr>\n",
       "      <th>scGMD</th>\n",
       "      <td>0.000720</td>\n",
       "    </tr>\n",
       "    <tr>\n",
       "      <th>LM22_batch</th>\n",
       "      <td>0.009384</td>\n",
       "    </tr>\n",
       "    <tr>\n",
       "      <th>LM22_nobatch</th>\n",
       "      <td>0.011979</td>\n",
       "    </tr>\n",
       "  </tbody>\n",
       "</table>\n",
       "</div>"
      ],
      "text/plain": [
       "                   MSE\n",
       "scGMD         0.000720\n",
       "LM22_batch    0.009384\n",
       "LM22_nobatch  0.011979"
      ]
     },
     "execution_count": 2,
     "metadata": {},
     "output_type": "execute_result"
    }
   ],
   "source": [
    "index = [\"scGMD\",\"LM22_batch\", \"LM22_nobatch\"]\n",
    "values = [0.0007197450400028834, 0.009383540620740581, 0.01197906660831002]\n",
    "result_compare = pd.DataFrame(index=index, columns=['MSE'], data=values)\n",
    "result_compare"
   ]
  },
  {
   "cell_type": "code",
   "execution_count": 3,
   "id": "70eda848",
   "metadata": {},
   "outputs": [
    {
     "data": {
      "image/png": "[encoded data removed]",
      "text/plain": [
       "<Figure size 216x144 with 1 Axes>"
      ]
     },
     "metadata": {
      "needs_background": "light"
     },
     "output_type": "display_data"
    }
   ],
   "source": [
    "# this step plots the whole-matrix level MSE in the sorted order\n",
    "palette = ['#E9E9E9' if (x > min(values)) else '#759DC9' for x in values ]\n",
    "#palette = sns.color_palette(['#759DC9'], 20, as_cmap=True)\n",
    "\n",
    "plt.figure(figsize=(3, 2))\n",
    "ax = sns.barplot(data=result_compare.sort_values(by='MSE').T, orient='h', palette=palette)\n",
    "ax.set_xlabel(\"MSE\", fontsize=14)\n",
    "for index, value in enumerate(values):\n",
    "    if index == 0:\n",
    "        plt.text(value, index, \"  \"+str(round(value,5)), ha = 'left', va = 'center_baseline', size=13, weight='bold')\n",
    "    else:\n",
    "        plt.text(value, index, \"  \"+str(round(value,5)), ha = 'left', va = 'center_baseline', size=11, weight='light')\n",
    "sns.despine()"
   ]
  },
  {
   "cell_type": "code",
   "execution_count": null,
   "id": "404b160f",
   "metadata": {},
   "outputs": [],
   "source": []
  },
  {
   "cell_type": "code",
   "execution_count": 4,
   "id": "c4d7acd1",
   "metadata": {},
   "outputs": [
    {
     "data": {
      "text/html": [
       "<div>\n",
       "<style scoped>\n",
       "    .dataframe tbody tr th:only-of-type {\n",
       "        vertical-align: middle;\n",
       "    }\n",
       "\n",
       "    .dataframe tbody tr th {\n",
       "        vertical-align: top;\n",
       "    }\n",
       "\n",
       "    .dataframe thead th {\n",
       "        text-align: right;\n",
       "    }\n",
       "</style>\n",
       "<table border=\"1\" class=\"dataframe\">\n",
       "  <thead>\n",
       "    <tr style=\"text-align: right;\">\n",
       "      <th></th>\n",
       "      <th>MSE</th>\n",
       "    </tr>\n",
       "  </thead>\n",
       "  <tbody>\n",
       "    <tr>\n",
       "      <th>scGMD</th>\n",
       "      <td>0.003444</td>\n",
       "    </tr>\n",
       "    <tr>\n",
       "      <th>LM22_batch</th>\n",
       "      <td>0.040828</td>\n",
       "    </tr>\n",
       "    <tr>\n",
       "      <th>LM22_nobatch</th>\n",
       "      <td>0.041862</td>\n",
       "    </tr>\n",
       "  </tbody>\n",
       "</table>\n",
       "</div>"
      ],
      "text/plain": [
       "                   MSE\n",
       "scGMD         0.003444\n",
       "LM22_batch    0.040828\n",
       "LM22_nobatch  0.041862"
      ]
     },
     "execution_count": 4,
     "metadata": {},
     "output_type": "execute_result"
    }
   ],
   "source": [
    "#darmanis\n",
    "index = [\"scGMD\", \"LM22_batch\", \"LM22_nobatch\"]\n",
    "values = [0.00344406783186145, 0.04082795776196757, 0.04186150612164711]\n",
    "result_compare = pd.DataFrame(index=index, columns=['MSE'], data=values)\n",
    "result_compare"
   ]
  },
  {
   "cell_type": "code",
   "execution_count": 5,
   "id": "286a5167",
   "metadata": {},
   "outputs": [
    {
     "data": {
      "image/png": "[encoded data removed]",
      "text/plain": [
       "<Figure size 216x144 with 1 Axes>"
      ]
     },
     "metadata": {
      "needs_background": "light"
     },
     "output_type": "display_data"
    }
   ],
   "source": [
    "palette = ['#E9E9E9' if (x > min(values)) else '#759DC9' for x in values ]\n",
    "\n",
    "plt.figure(figsize=(3, 2))\n",
    "ax = sns.barplot(data=result_compare.sort_values(by='MSE').T, orient='h', palette=palette)\n",
    "ax.set_xlabel(\"MSE\", fontsize=14)\n",
    "plt.yticks(weight='bold')\n",
    "for index, value in enumerate(values):\n",
    "    if index == 0:\n",
    "        plt.text(value, index, \"  \"+str(round(value,5)), ha = 'left', va = 'center_baseline', size=13, weight='bold')\n",
    "    else:\n",
    "        plt.text(value, index, \"  \"+str(round(value,5)), ha = 'left', va = 'center_baseline', size=11, weight='light')\n",
    "sns.despine()"
   ]
  },
  {
   "cell_type": "code",
   "execution_count": null,
   "id": "0a582695",
   "metadata": {},
   "outputs": [],
   "source": []
  }
 ],
 "metadata": {
  "kernelspec": {
   "display_name": "Python 3",
   "language": "python",
   "name": "python3"
  },
  "language_info": {
   "codemirror_mode": {
    "name": "ipython",
    "version": 3
   },
   "file_extension": ".py",
   "mimetype": "text/x-python",
   "name": "python",
   "nbconvert_exporter": "python",
   "pygments_lexer": "ipython3",
   "version": "3.8.8"
  }
 },
 "nbformat": 4,
 "nbformat_minor": 5
}
